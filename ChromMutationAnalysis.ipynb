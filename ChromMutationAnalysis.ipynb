{
 "cells": [
  {
   "cell_type": "markdown",
   "metadata": {
    "id": "a-xsfIH_j216"
   },
   "source": [
    "# Chromosome Mutation Analysis"
   ]
  },
  {
   "cell_type": "markdown",
   "metadata": {},
   "source": [
    "### Introduction  \n",
    "This notebook provides a framework for processing genetic data into a format optimized for visualization. The code below will take a file of somatic genetic mutations as input and output three different files that can be then used to create visualizations in R. "
   ]
  },
  {
   "cell_type": "markdown",
   "metadata": {},
   "source": [
    "### Preliminaries"
   ]
  },
  {
   "cell_type": "code",
   "execution_count": 10,
   "metadata": {
    "id": "L25KrpWYj217"
   },
   "outputs": [],
   "source": [
    "# Import the required packages\n",
    "import pandas as pd\n",
    "import numpy as np"
   ]
  },
  {
   "cell_type": "markdown",
   "metadata": {
    "id": "v9HBM3aTj22B"
   },
   "source": [
    "### Setting Up Our Data"
   ]
  },
  {
   "cell_type": "code",
   "execution_count": 11,
   "metadata": {
    "id": "NYIg8NRZj22B",
    "outputId": "930bd915-2976-4e88-81d6-38a858d30a9c"
   },
   "outputs": [],
   "source": [
    "# Read in the data\n",
    "somatic = pd.read_csv('somatic_snps.tsv.gz',sep='\\t')"
   ]
  },
  {
   "cell_type": "code",
   "execution_count": 12,
   "metadata": {
    "id": "lsDMC4FXj22H",
    "outputId": "89df997a-fb78-4d56-b518-23182ce26b67"
   },
   "outputs": [
    {
     "data": {
      "text/html": [
       "<div>\n",
       "<style scoped>\n",
       "    .dataframe tbody tr th:only-of-type {\n",
       "        vertical-align: middle;\n",
       "    }\n",
       "\n",
       "    .dataframe tbody tr th {\n",
       "        vertical-align: top;\n",
       "    }\n",
       "\n",
       "    .dataframe thead th {\n",
       "        text-align: right;\n",
       "    }\n",
       "</style>\n",
       "<table border=\"1\" class=\"dataframe\">\n",
       "  <thead>\n",
       "    <tr style=\"text-align: right;\">\n",
       "      <th></th>\n",
       "      <th>CHROM</th>\n",
       "      <th>POS</th>\n",
       "      <th>REF</th>\n",
       "      <th>ALT</th>\n",
       "      <th>A01</th>\n",
       "      <th>A03</th>\n",
       "      <th>A04</th>\n",
       "      <th>A05</th>\n",
       "      <th>A06</th>\n",
       "      <th>B01</th>\n",
       "      <th>...</th>\n",
       "      <th>F06</th>\n",
       "      <th>G02</th>\n",
       "      <th>G03</th>\n",
       "      <th>G04</th>\n",
       "      <th>G05</th>\n",
       "      <th>G06</th>\n",
       "      <th>H02</th>\n",
       "      <th>H04</th>\n",
       "      <th>H05</th>\n",
       "      <th>H06</th>\n",
       "    </tr>\n",
       "  </thead>\n",
       "  <tbody>\n",
       "    <tr>\n",
       "      <th>0</th>\n",
       "      <td>1</td>\n",
       "      <td>13395</td>\n",
       "      <td>T</td>\n",
       "      <td>C</td>\n",
       "      <td>0</td>\n",
       "      <td>0</td>\n",
       "      <td>0</td>\n",
       "      <td>0</td>\n",
       "      <td>0</td>\n",
       "      <td>0</td>\n",
       "      <td>...</td>\n",
       "      <td>0</td>\n",
       "      <td>0</td>\n",
       "      <td>0</td>\n",
       "      <td>0</td>\n",
       "      <td>0</td>\n",
       "      <td>0</td>\n",
       "      <td>0</td>\n",
       "      <td>0</td>\n",
       "      <td>0</td>\n",
       "      <td>0</td>\n",
       "    </tr>\n",
       "    <tr>\n",
       "      <th>1</th>\n",
       "      <td>1</td>\n",
       "      <td>15665</td>\n",
       "      <td>G</td>\n",
       "      <td>T</td>\n",
       "      <td>0</td>\n",
       "      <td>0</td>\n",
       "      <td>0</td>\n",
       "      <td>1</td>\n",
       "      <td>0</td>\n",
       "      <td>0</td>\n",
       "      <td>...</td>\n",
       "      <td>0</td>\n",
       "      <td>0</td>\n",
       "      <td>0</td>\n",
       "      <td>0</td>\n",
       "      <td>0</td>\n",
       "      <td>0</td>\n",
       "      <td>0</td>\n",
       "      <td>0</td>\n",
       "      <td>0</td>\n",
       "      <td>0</td>\n",
       "    </tr>\n",
       "    <tr>\n",
       "      <th>2</th>\n",
       "      <td>1</td>\n",
       "      <td>48173</td>\n",
       "      <td>C</td>\n",
       "      <td>T</td>\n",
       "      <td>0</td>\n",
       "      <td>0</td>\n",
       "      <td>0</td>\n",
       "      <td>0</td>\n",
       "      <td>0</td>\n",
       "      <td>0</td>\n",
       "      <td>...</td>\n",
       "      <td>0</td>\n",
       "      <td>0</td>\n",
       "      <td>1</td>\n",
       "      <td>0</td>\n",
       "      <td>0</td>\n",
       "      <td>0</td>\n",
       "      <td>0</td>\n",
       "      <td>0</td>\n",
       "      <td>0</td>\n",
       "      <td>0</td>\n",
       "    </tr>\n",
       "    <tr>\n",
       "      <th>3</th>\n",
       "      <td>1</td>\n",
       "      <td>52727</td>\n",
       "      <td>C</td>\n",
       "      <td>G</td>\n",
       "      <td>0</td>\n",
       "      <td>0</td>\n",
       "      <td>0</td>\n",
       "      <td>0</td>\n",
       "      <td>0</td>\n",
       "      <td>0</td>\n",
       "      <td>...</td>\n",
       "      <td>0</td>\n",
       "      <td>0</td>\n",
       "      <td>0</td>\n",
       "      <td>0</td>\n",
       "      <td>0</td>\n",
       "      <td>0</td>\n",
       "      <td>0</td>\n",
       "      <td>0</td>\n",
       "      <td>1</td>\n",
       "      <td>0</td>\n",
       "    </tr>\n",
       "    <tr>\n",
       "      <th>4</th>\n",
       "      <td>1</td>\n",
       "      <td>55211</td>\n",
       "      <td>C</td>\n",
       "      <td>A</td>\n",
       "      <td>0</td>\n",
       "      <td>0</td>\n",
       "      <td>1</td>\n",
       "      <td>0</td>\n",
       "      <td>0</td>\n",
       "      <td>0</td>\n",
       "      <td>...</td>\n",
       "      <td>0</td>\n",
       "      <td>0</td>\n",
       "      <td>0</td>\n",
       "      <td>0</td>\n",
       "      <td>0</td>\n",
       "      <td>0</td>\n",
       "      <td>0</td>\n",
       "      <td>0</td>\n",
       "      <td>0</td>\n",
       "      <td>0</td>\n",
       "    </tr>\n",
       "  </tbody>\n",
       "</table>\n",
       "<p>5 rows × 43 columns</p>\n",
       "</div>"
      ],
      "text/plain": [
       "  CHROM    POS REF ALT  A01  A03  A04  A05  A06  B01  ...  F06  G02  G03  G04  \\\n",
       "0     1  13395   T   C    0    0    0    0    0    0  ...    0    0    0    0   \n",
       "1     1  15665   G   T    0    0    0    1    0    0  ...    0    0    0    0   \n",
       "2     1  48173   C   T    0    0    0    0    0    0  ...    0    0    1    0   \n",
       "3     1  52727   C   G    0    0    0    0    0    0  ...    0    0    0    0   \n",
       "4     1  55211   C   A    0    0    1    0    0    0  ...    0    0    0    0   \n",
       "\n",
       "   G05  G06  H02  H04  H05  H06  \n",
       "0    0    0    0    0    0    0  \n",
       "1    0    0    0    0    0    0  \n",
       "2    0    0    0    0    0    0  \n",
       "3    0    0    0    0    1    0  \n",
       "4    0    0    0    0    0    0  \n",
       "\n",
       "[5 rows x 43 columns]"
      ]
     },
     "execution_count": 12,
     "metadata": {},
     "output_type": "execute_result"
    }
   ],
   "source": [
    "# Check out the format of the data\n",
    "somatic.head()"
   ]
  },
  {
   "cell_type": "code",
   "execution_count": 13,
   "metadata": {},
   "outputs": [],
   "source": [
    "chromosomes_in_data = list(somatic['CHROM'].unique()[0:23])"
   ]
  },
  {
   "cell_type": "markdown",
   "metadata": {},
   "source": [
    "**A Note on Data Structure**  \n",
    "We need our data frame to be structured in a very specific way for  the rest of the code contained within this notebook to function properly. The main characteristics that we need are as follows:  \n",
    "* There is a column for the chromosome number\n",
    "* There is a column for the base pair position\n",
    "* There is a column for each patient, with each value either being 0 or 1 indicating the presence of a mutation at that location.\n",
    "* There is a \"total\" column that indicates the number of mutations across all patients at a given location.\n",
    "\n",
    "If your data is not in this format the code below will not function. "
   ]
  },
  {
   "cell_type": "markdown",
   "metadata": {
    "id": "vryUWKwyj22K"
   },
   "source": [
    "**Add Column for Total Mutations**  \n",
    "Our data matches all of the conditions aside from the last one. We can quickly add a \"total\" column to meet this condition."
   ]
  },
  {
   "cell_type": "code",
   "execution_count": 14,
   "metadata": {
    "id": "iyKf8vCYj22L"
   },
   "outputs": [
    {
     "data": {
      "text/html": [
       "<div>\n",
       "<style scoped>\n",
       "    .dataframe tbody tr th:only-of-type {\n",
       "        vertical-align: middle;\n",
       "    }\n",
       "\n",
       "    .dataframe tbody tr th {\n",
       "        vertical-align: top;\n",
       "    }\n",
       "\n",
       "    .dataframe thead th {\n",
       "        text-align: right;\n",
       "    }\n",
       "</style>\n",
       "<table border=\"1\" class=\"dataframe\">\n",
       "  <thead>\n",
       "    <tr style=\"text-align: right;\">\n",
       "      <th></th>\n",
       "      <th>CHROM</th>\n",
       "      <th>POS</th>\n",
       "      <th>REF</th>\n",
       "      <th>ALT</th>\n",
       "      <th>A01</th>\n",
       "      <th>A03</th>\n",
       "      <th>A04</th>\n",
       "      <th>A05</th>\n",
       "      <th>A06</th>\n",
       "      <th>B01</th>\n",
       "      <th>...</th>\n",
       "      <th>G02</th>\n",
       "      <th>G03</th>\n",
       "      <th>G04</th>\n",
       "      <th>G05</th>\n",
       "      <th>G06</th>\n",
       "      <th>H02</th>\n",
       "      <th>H04</th>\n",
       "      <th>H05</th>\n",
       "      <th>H06</th>\n",
       "      <th>total</th>\n",
       "    </tr>\n",
       "  </thead>\n",
       "  <tbody>\n",
       "    <tr>\n",
       "      <th>0</th>\n",
       "      <td>1</td>\n",
       "      <td>13395</td>\n",
       "      <td>T</td>\n",
       "      <td>C</td>\n",
       "      <td>0</td>\n",
       "      <td>0</td>\n",
       "      <td>0</td>\n",
       "      <td>0</td>\n",
       "      <td>0</td>\n",
       "      <td>0</td>\n",
       "      <td>...</td>\n",
       "      <td>0</td>\n",
       "      <td>0</td>\n",
       "      <td>0</td>\n",
       "      <td>0</td>\n",
       "      <td>0</td>\n",
       "      <td>0</td>\n",
       "      <td>0</td>\n",
       "      <td>0</td>\n",
       "      <td>0</td>\n",
       "      <td>1</td>\n",
       "    </tr>\n",
       "    <tr>\n",
       "      <th>1</th>\n",
       "      <td>1</td>\n",
       "      <td>15665</td>\n",
       "      <td>G</td>\n",
       "      <td>T</td>\n",
       "      <td>0</td>\n",
       "      <td>0</td>\n",
       "      <td>0</td>\n",
       "      <td>1</td>\n",
       "      <td>0</td>\n",
       "      <td>0</td>\n",
       "      <td>...</td>\n",
       "      <td>0</td>\n",
       "      <td>0</td>\n",
       "      <td>0</td>\n",
       "      <td>0</td>\n",
       "      <td>0</td>\n",
       "      <td>0</td>\n",
       "      <td>0</td>\n",
       "      <td>0</td>\n",
       "      <td>0</td>\n",
       "      <td>1</td>\n",
       "    </tr>\n",
       "    <tr>\n",
       "      <th>2</th>\n",
       "      <td>1</td>\n",
       "      <td>48173</td>\n",
       "      <td>C</td>\n",
       "      <td>T</td>\n",
       "      <td>0</td>\n",
       "      <td>0</td>\n",
       "      <td>0</td>\n",
       "      <td>0</td>\n",
       "      <td>0</td>\n",
       "      <td>0</td>\n",
       "      <td>...</td>\n",
       "      <td>0</td>\n",
       "      <td>1</td>\n",
       "      <td>0</td>\n",
       "      <td>0</td>\n",
       "      <td>0</td>\n",
       "      <td>0</td>\n",
       "      <td>0</td>\n",
       "      <td>0</td>\n",
       "      <td>0</td>\n",
       "      <td>1</td>\n",
       "    </tr>\n",
       "    <tr>\n",
       "      <th>3</th>\n",
       "      <td>1</td>\n",
       "      <td>52727</td>\n",
       "      <td>C</td>\n",
       "      <td>G</td>\n",
       "      <td>0</td>\n",
       "      <td>0</td>\n",
       "      <td>0</td>\n",
       "      <td>0</td>\n",
       "      <td>0</td>\n",
       "      <td>0</td>\n",
       "      <td>...</td>\n",
       "      <td>0</td>\n",
       "      <td>0</td>\n",
       "      <td>0</td>\n",
       "      <td>0</td>\n",
       "      <td>0</td>\n",
       "      <td>0</td>\n",
       "      <td>0</td>\n",
       "      <td>1</td>\n",
       "      <td>0</td>\n",
       "      <td>1</td>\n",
       "    </tr>\n",
       "    <tr>\n",
       "      <th>4</th>\n",
       "      <td>1</td>\n",
       "      <td>55211</td>\n",
       "      <td>C</td>\n",
       "      <td>A</td>\n",
       "      <td>0</td>\n",
       "      <td>0</td>\n",
       "      <td>1</td>\n",
       "      <td>0</td>\n",
       "      <td>0</td>\n",
       "      <td>0</td>\n",
       "      <td>...</td>\n",
       "      <td>0</td>\n",
       "      <td>0</td>\n",
       "      <td>0</td>\n",
       "      <td>0</td>\n",
       "      <td>0</td>\n",
       "      <td>0</td>\n",
       "      <td>0</td>\n",
       "      <td>0</td>\n",
       "      <td>0</td>\n",
       "      <td>1</td>\n",
       "    </tr>\n",
       "  </tbody>\n",
       "</table>\n",
       "<p>5 rows × 44 columns</p>\n",
       "</div>"
      ],
      "text/plain": [
       "  CHROM    POS REF ALT  A01  A03  A04  A05  A06  B01  ...  G02  G03  G04  G05  \\\n",
       "0     1  13395   T   C    0    0    0    0    0    0  ...    0    0    0    0   \n",
       "1     1  15665   G   T    0    0    0    1    0    0  ...    0    0    0    0   \n",
       "2     1  48173   C   T    0    0    0    0    0    0  ...    0    1    0    0   \n",
       "3     1  52727   C   G    0    0    0    0    0    0  ...    0    0    0    0   \n",
       "4     1  55211   C   A    0    0    1    0    0    0  ...    0    0    0    0   \n",
       "\n",
       "   G06  H02  H04  H05  H06  total  \n",
       "0    0    0    0    0    0      1  \n",
       "1    0    0    0    0    0      1  \n",
       "2    0    0    0    0    0      1  \n",
       "3    0    0    0    1    0      1  \n",
       "4    0    0    0    0    0      1  \n",
       "\n",
       "[5 rows x 44 columns]"
      ]
     },
     "execution_count": 14,
     "metadata": {},
     "output_type": "execute_result"
    }
   ],
   "source": [
    "# Add the total column and check to make sure it was added\n",
    "somatic['total']= somatic.iloc[:, 4:43].sum(axis=1)\n",
    "somatic.head()"
   ]
  },
  {
   "cell_type": "markdown",
   "metadata": {
    "id": "1ickZVNQj22U"
   },
   "source": [
    "**Reference Dictionary**  \n",
    "We need to create a refence dictionary that will contain the lengths of each chromosome. This information will be needed for when we calculate the number of windows to use on a single chromosome. "
   ]
  },
  {
   "cell_type": "code",
   "execution_count": 15,
   "metadata": {
    "id": "-y9P120pj22U"
   },
   "outputs": [],
   "source": [
    "chrom_data = {\n",
    "1:247249719,\n",
    "2:242951149,\n",
    "3:199501827,\n",
    "4:191273063,\n",
    "5:180857866,\n",
    "6:170899992,\n",
    "7:158821424,\n",
    "8:146274826,\n",
    "9:140273252,\n",
    "10:135374737,\n",
    "11:134452384,\n",
    "12:132349534,\n",
    "13:114142980,\n",
    "14:106368585,\n",
    "15:100338915,\n",
    "16:88827254,\n",
    "17:78774742,\n",
    "18:76117153,\n",
    "19:63811651,\n",
    "20:62435964,\n",
    "21:46944323,\n",
    "22:49691432}"
   ]
  },
  {
   "cell_type": "markdown",
   "metadata": {
    "id": "1kB3FLoij22T"
   },
   "source": [
    "### Making Functions"
   ]
  },
  {
   "cell_type": "markdown",
   "metadata": {
    "id": "sr_1Z_kSj22g"
   },
   "source": [
    "**Function One: Mutation Occurence**  \n",
    "This first function will calculate \"occurence\" - the raw number of total mutations within each window on each chromosome. The function will only have one input - window size - and will return a data frame with three columns: (1) chromosome number, (2) window number, and (3) number of mutations found.  \n",
    "  \n",
    "*A note on our functions:*  \n",
    "You will see in the code below that we use the same windows for each chromsome. This is not optimal as it results in us calculating metrics for windows that we know have no data. This will be updated in a futrue iteration, but it is not so detrimental as to noticeably slow the computation time and so we can proceed with this setup for now.  "
   ]
  },
  {
   "cell_type": "code",
   "execution_count": 16,
   "metadata": {
    "id": "ye-XzdAYj22h"
   },
   "outputs": [],
   "source": [
    "def occurrence(window_size):\n",
    "    \n",
    "    ## Calculate the number of windows we need\n",
    "    # Because it is the longest, we will use chromosome 1 as the basis for our number of windows\n",
    "    chrom_len = chrom_data[1]  \n",
    "    num_windows = int(np.ceil(chrom_len/window_size))\n",
    "    \n",
    "    # Create a blank dictionary for saving information\n",
    "    mutation_dict = {}\n",
    "        \n",
    "    # For each chromosome\n",
    "    for i in chromosomes_in_data:\n",
    "            \n",
    "        # Create subset of main data\n",
    "        subset = 'CHROM=={}'.format(i)\n",
    "        spec_chrom = somatic.query(subset)\n",
    "        \n",
    "        # For each window in the chromosome\n",
    "        for j in range(1,num_windows):\n",
    "            # Set the window start and stop positions\n",
    "            window_start = (j-1)*window_size\n",
    "            window_stop =  j*window_size\n",
    "            \n",
    "            # Slice our df again into a smaller one that only covers the specified window \n",
    "            window_df = spec_chrom.query(\"POS > {} & POS <= {}\".format(window_start,window_stop))\n",
    "            \n",
    "            # Count the number of mutations within the window\n",
    "            mutations = window_df['total'].sum()\n",
    "\n",
    "            # Add to dictionary\n",
    "            dict_string = '{}_{}'.format(i, j)\n",
    "            mutation_dict[dict_string] = {'chromosome':i,'window':j,'mutations':mutations}\n",
    "\n",
    "    # Turn dictionary into dataframe\n",
    "    df = pd.DataFrame.from_dict(mutation_dict, orient='index')\n",
    "    \n",
    "    # Return df\n",
    "    return df"
   ]
  },
  {
   "cell_type": "code",
   "execution_count": 17,
   "metadata": {
    "id": "CqzySjhsj22l"
   },
   "outputs": [],
   "source": [
    "# Let's try it out! We will use a window size of 1,000,000\n",
    "trial_occurrence = occurrence(1000000)"
   ]
  },
  {
   "cell_type": "code",
   "execution_count": 18,
   "metadata": {},
   "outputs": [
    {
     "data": {
      "text/html": [
       "<div>\n",
       "<style scoped>\n",
       "    .dataframe tbody tr th:only-of-type {\n",
       "        vertical-align: middle;\n",
       "    }\n",
       "\n",
       "    .dataframe tbody tr th {\n",
       "        vertical-align: top;\n",
       "    }\n",
       "\n",
       "    .dataframe thead th {\n",
       "        text-align: right;\n",
       "    }\n",
       "</style>\n",
       "<table border=\"1\" class=\"dataframe\">\n",
       "  <thead>\n",
       "    <tr style=\"text-align: right;\">\n",
       "      <th></th>\n",
       "      <th>chromosome</th>\n",
       "      <th>window</th>\n",
       "      <th>mutations</th>\n",
       "    </tr>\n",
       "  </thead>\n",
       "  <tbody>\n",
       "    <tr>\n",
       "      <th>1_1</th>\n",
       "      <td>1</td>\n",
       "      <td>1</td>\n",
       "      <td>151</td>\n",
       "    </tr>\n",
       "    <tr>\n",
       "      <th>1_2</th>\n",
       "      <td>1</td>\n",
       "      <td>2</td>\n",
       "      <td>232</td>\n",
       "    </tr>\n",
       "    <tr>\n",
       "      <th>1_3</th>\n",
       "      <td>1</td>\n",
       "      <td>3</td>\n",
       "      <td>207</td>\n",
       "    </tr>\n",
       "    <tr>\n",
       "      <th>1_4</th>\n",
       "      <td>1</td>\n",
       "      <td>4</td>\n",
       "      <td>207</td>\n",
       "    </tr>\n",
       "    <tr>\n",
       "      <th>1_5</th>\n",
       "      <td>1</td>\n",
       "      <td>5</td>\n",
       "      <td>152</td>\n",
       "    </tr>\n",
       "  </tbody>\n",
       "</table>\n",
       "</div>"
      ],
      "text/plain": [
       "    chromosome  window  mutations\n",
       "1_1          1       1        151\n",
       "1_2          1       2        232\n",
       "1_3          1       3        207\n",
       "1_4          1       4        207\n",
       "1_5          1       5        152"
      ]
     },
     "execution_count": 18,
     "metadata": {},
     "output_type": "execute_result"
    }
   ],
   "source": [
    "# We can take a look at our results to see if it worked\n",
    "trial_occurrence.head()"
   ]
  },
  {
   "cell_type": "code",
   "execution_count": 19,
   "metadata": {
    "id": "NtPIHpa0j22o"
   },
   "outputs": [],
   "source": [
    "# Save results to csv\n",
    "trial_occurrence.to_csv('chromosome_mutations_occurrence.csv')"
   ]
  },
  {
   "cell_type": "markdown",
   "metadata": {
    "id": "o5pPQZFgj22r"
   },
   "source": [
    "**Function Two: Mutation Coverage**  \n",
    "The next thing we want to analyze is coverage - how many patients show a mutation in a given window. This value will fall within the range (0,1) and it will tell us which areas on the chromosome most commonly show mutations across our patient pool. Before we can create this function we need to get a list of the columns within our data frame that correspond to our patients. We will iterate through this list within our function."
   ]
  },
  {
   "cell_type": "code",
   "execution_count": 20,
   "metadata": {
    "id": "COdaCUgtj22s"
   },
   "outputs": [],
   "source": [
    "# Getting a list of patients\n",
    "patients = somatic.columns[4:43].to_list()"
   ]
  },
  {
   "cell_type": "code",
   "execution_count": 21,
   "metadata": {
    "id": "b5F9MwNTj22u"
   },
   "outputs": [],
   "source": [
    "def coverage(window_size):\n",
    "    \n",
    "    ## Calculate the number of windows we need\n",
    "    # Because it is the longest, we will use chromosome 1 as the basis for our number of windows\n",
    "    chrom_len = chrom_data[1]\n",
    "    num_windows = int(np.ceil(chrom_len/window_size))\n",
    "    \n",
    "    # Create a blank dictionary for saving information\n",
    "    density_dict = {}\n",
    "        \n",
    "    # For each chromosome\n",
    "    for i in chromosomes_in_data:\n",
    "            \n",
    "        # Create subset of main data\n",
    "        subset = 'CHROM=={}'.format(i)\n",
    "        spec_chrom = somatic.query(subset)\n",
    "        \n",
    "        # For each window\n",
    "        for j in range(1,num_windows):\n",
    "            window_start = (j-1)*window_size\n",
    "            window_stop =  j*window_size\n",
    "\n",
    "            window_df = spec_chrom.query(\"POS > {} & POS <= {}\".format(window_start,window_stop))\n",
    "            \n",
    "            patient_count = 0\n",
    "\n",
    "            # For each patient\n",
    "            for k in patients:\n",
    "                if window_df[k].sum() > 0:\n",
    "                    patient_count += 1\n",
    "           \n",
    "            # Calculate coverage\n",
    "            coverage = patient_count / len(patients)                \n",
    "\n",
    "            # Add to dictionary\n",
    "            dict_string = '{}_{}'.format(i, j)\n",
    "            density_dict[dict_string] = {'chromosome':i,'window':j,'coverage':coverage}\n",
    "\n",
    "    # Turn dictionary into dataframe\n",
    "    df = pd.DataFrame.from_dict(density_dict, orient='index')\n",
    "    \n",
    "    # Return df\n",
    "    return df"
   ]
  },
  {
   "cell_type": "code",
   "execution_count": 22,
   "metadata": {
    "id": "rrqQXkhIj22x"
   },
   "outputs": [],
   "source": [
    "# Let's try it out! We will use a window size of 1,000,000\n",
    "trial_coverage = coverage(1000000)"
   ]
  },
  {
   "cell_type": "code",
   "execution_count": 23,
   "metadata": {
    "id": "-QYhwIaKj22z",
    "outputId": "f13c25df-1631-4e06-a326-ad2e7721dbfc"
   },
   "outputs": [
    {
     "data": {
      "text/html": [
       "<div>\n",
       "<style scoped>\n",
       "    .dataframe tbody tr th:only-of-type {\n",
       "        vertical-align: middle;\n",
       "    }\n",
       "\n",
       "    .dataframe tbody tr th {\n",
       "        vertical-align: top;\n",
       "    }\n",
       "\n",
       "    .dataframe thead th {\n",
       "        text-align: right;\n",
       "    }\n",
       "</style>\n",
       "<table border=\"1\" class=\"dataframe\">\n",
       "  <thead>\n",
       "    <tr style=\"text-align: right;\">\n",
       "      <th></th>\n",
       "      <th>chromosome</th>\n",
       "      <th>window</th>\n",
       "      <th>coverage</th>\n",
       "    </tr>\n",
       "  </thead>\n",
       "  <tbody>\n",
       "    <tr>\n",
       "      <th>1_1</th>\n",
       "      <td>1</td>\n",
       "      <td>1</td>\n",
       "      <td>0.897436</td>\n",
       "    </tr>\n",
       "    <tr>\n",
       "      <th>1_2</th>\n",
       "      <td>1</td>\n",
       "      <td>2</td>\n",
       "      <td>0.974359</td>\n",
       "    </tr>\n",
       "    <tr>\n",
       "      <th>1_3</th>\n",
       "      <td>1</td>\n",
       "      <td>3</td>\n",
       "      <td>1.000000</td>\n",
       "    </tr>\n",
       "    <tr>\n",
       "      <th>1_4</th>\n",
       "      <td>1</td>\n",
       "      <td>4</td>\n",
       "      <td>0.948718</td>\n",
       "    </tr>\n",
       "    <tr>\n",
       "      <th>1_5</th>\n",
       "      <td>1</td>\n",
       "      <td>5</td>\n",
       "      <td>0.897436</td>\n",
       "    </tr>\n",
       "  </tbody>\n",
       "</table>\n",
       "</div>"
      ],
      "text/plain": [
       "    chromosome  window  coverage\n",
       "1_1          1       1  0.897436\n",
       "1_2          1       2  0.974359\n",
       "1_3          1       3  1.000000\n",
       "1_4          1       4  0.948718\n",
       "1_5          1       5  0.897436"
      ]
     },
     "execution_count": 23,
     "metadata": {},
     "output_type": "execute_result"
    }
   ],
   "source": [
    "# Look at results\n",
    "trial_coverage.head()"
   ]
  },
  {
   "cell_type": "code",
   "execution_count": 24,
   "metadata": {
    "id": "tx1M4YTpj223"
   },
   "outputs": [],
   "source": [
    "# Save results to csv\n",
    "trial_coverage.to_csv('chromosome_mutations_coverage.csv')"
   ]
  },
  {
   "cell_type": "markdown",
   "metadata": {
    "id": "fjyiRsFUj226"
   },
   "source": [
    "**Function Three: Mutation Density**  \n",
    "The last thing we want to analyze is density - how close are mutations to one another within each window? There are many ways to think about this, but we will use interquartile range. It is worth noting that this metric, as calculated below, can be a little misleading as it is does not account for the fact that mutations are occuring across different patients. Instead, it analyzes the data as if these mutations were all occuring within a single persons genome. "
   ]
  },
  {
   "cell_type": "code",
   "execution_count": 25,
   "metadata": {
    "id": "92p_ChDaj227"
   },
   "outputs": [],
   "source": [
    "def density(window_size):\n",
    "    \n",
    "    ## Calculate the number of windows we need\n",
    "    # Because it is the longest, we will use chromosome 1 as the basis for our number of windows\n",
    "    chrom_len = chrom_data[1]\n",
    "    num_windows = int(np.ceil(chrom_len/window_size))\n",
    "    \n",
    "    # Create a blank dictionary for saving information\n",
    "    density_dict = {}\n",
    "        \n",
    "    # For each chromosome\n",
    "    for i in chromosomes_in_data:\n",
    "            \n",
    "        # Create subset of main data\n",
    "        subset = 'CHROM=={}'.format(i)\n",
    "        spec_chrom = somatic.query(subset)\n",
    "        \n",
    "        # For each window\n",
    "        for j in range(1,num_windows):\n",
    "            window_start = (j-1)*window_size\n",
    "            window_stop =  j*window_size\n",
    "\n",
    "            window_df = spec_chrom.query(\"POS > {} & POS <= {}\".format(window_start,window_stop))\n",
    "            \n",
    "            # Get list of mutation positions\n",
    "            locations = window_df['POS']\n",
    "            \n",
    "            # Calculate IQR\n",
    "            if len(locations) > 0:\n",
    "                iqr = np.percentile(locations, 75) - np.percentile(locations, 25)\n",
    "            else:\n",
    "                iqr = np.nan\n",
    "\n",
    "            # Add to dictionary\n",
    "            dict_string = '{}_{}'.format(i, j)\n",
    "            density_dict[dict_string] = {'chromosome':i,'window':j,'iqr':iqr}\n",
    "\n",
    "    # Turn dictionary into dataframe\n",
    "    df = pd.DataFrame.from_dict(density_dict, orient='index')\n",
    "    \n",
    "    # Return df\n",
    "    return df"
   ]
  },
  {
   "cell_type": "code",
   "execution_count": 26,
   "metadata": {
    "id": "1DXZRKXnj22-"
   },
   "outputs": [],
   "source": [
    "# Let's try it out! We will use a window size of 1,000,000\n",
    "trial_density = density(1000000)"
   ]
  },
  {
   "cell_type": "code",
   "execution_count": 27,
   "metadata": {
    "id": "aP5jhgd5j23B",
    "outputId": "2b48912b-7fe4-4c49-9bb7-bb4b28c7fe6e"
   },
   "outputs": [
    {
     "data": {
      "text/html": [
       "<div>\n",
       "<style scoped>\n",
       "    .dataframe tbody tr th:only-of-type {\n",
       "        vertical-align: middle;\n",
       "    }\n",
       "\n",
       "    .dataframe tbody tr th {\n",
       "        vertical-align: top;\n",
       "    }\n",
       "\n",
       "    .dataframe thead th {\n",
       "        text-align: right;\n",
       "    }\n",
       "</style>\n",
       "<table border=\"1\" class=\"dataframe\">\n",
       "  <thead>\n",
       "    <tr style=\"text-align: right;\">\n",
       "      <th></th>\n",
       "      <th>chromosome</th>\n",
       "      <th>window</th>\n",
       "      <th>iqr</th>\n",
       "    </tr>\n",
       "  </thead>\n",
       "  <tbody>\n",
       "    <tr>\n",
       "      <th>1_1</th>\n",
       "      <td>1</td>\n",
       "      <td>1</td>\n",
       "      <td>316218.25</td>\n",
       "    </tr>\n",
       "    <tr>\n",
       "      <th>1_2</th>\n",
       "      <td>1</td>\n",
       "      <td>2</td>\n",
       "      <td>356773.75</td>\n",
       "    </tr>\n",
       "    <tr>\n",
       "      <th>1_3</th>\n",
       "      <td>1</td>\n",
       "      <td>3</td>\n",
       "      <td>332609.00</td>\n",
       "    </tr>\n",
       "    <tr>\n",
       "      <th>1_4</th>\n",
       "      <td>1</td>\n",
       "      <td>4</td>\n",
       "      <td>476720.00</td>\n",
       "    </tr>\n",
       "    <tr>\n",
       "      <th>1_5</th>\n",
       "      <td>1</td>\n",
       "      <td>5</td>\n",
       "      <td>476802.75</td>\n",
       "    </tr>\n",
       "  </tbody>\n",
       "</table>\n",
       "</div>"
      ],
      "text/plain": [
       "    chromosome  window        iqr\n",
       "1_1          1       1  316218.25\n",
       "1_2          1       2  356773.75\n",
       "1_3          1       3  332609.00\n",
       "1_4          1       4  476720.00\n",
       "1_5          1       5  476802.75"
      ]
     },
     "execution_count": 27,
     "metadata": {},
     "output_type": "execute_result"
    }
   ],
   "source": [
    "# Look at results\n",
    "trial_density.head()"
   ]
  },
  {
   "cell_type": "code",
   "execution_count": 28,
   "metadata": {
    "id": "lsh3Kab6j23E"
   },
   "outputs": [],
   "source": [
    "# Save to csv\n",
    "trial_density.to_csv('chromosome_mutations_density.csv')"
   ]
  }
 ],
 "metadata": {
  "colab": {
   "name": "CapstoneWindows.ipynb",
   "provenance": []
  },
  "kernelspec": {
   "display_name": "Python 3",
   "language": "python",
   "name": "python3"
  },
  "language_info": {
   "codemirror_mode": {
    "name": "ipython",
    "version": 3
   },
   "file_extension": ".py",
   "mimetype": "text/x-python",
   "name": "python",
   "nbconvert_exporter": "python",
   "pygments_lexer": "ipython3",
   "version": "3.8.3"
  }
 },
 "nbformat": 4,
 "nbformat_minor": 1
}
